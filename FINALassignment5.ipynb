{
  "nbformat": 4,
  "nbformat_minor": 0,
  "metadata": {
    "colab": {
      "provenance": [],
      "authorship_tag": "ABX9TyOxv7TQa9Xv5ZeuhmeTLdxT",
      "include_colab_link": true
    },
    "kernelspec": {
      "name": "python3",
      "display_name": "Python 3"
    },
    "language_info": {
      "name": "python"
    }
  },
  "cells": [
    {
      "cell_type": "markdown",
      "metadata": {
        "id": "view-in-github",
        "colab_type": "text"
      },
      "source": [
        "<a href=\"https://colab.research.google.com/github/rtomek9/plotly-dash-DS4003/blob/main/FINALassignment5.ipynb\" target=\"_parent\"><img src=\"https://colab.research.google.com/assets/colab-badge.svg\" alt=\"Open In Colab\"/></a>"
      ]
    },
    {
      "cell_type": "code",
      "source": [
        "!pip install dash"
      ],
      "metadata": {
        "id": "LFFNPAz-9Xo7"
      },
      "execution_count": null,
      "outputs": []
    },
    {
      "cell_type": "code",
      "source": [
        "# compiling all code for .py file\n",
        "\n",
        "import pandas as pd\n",
        "import numpy as np\n",
        "import plotly.express as px\n",
        "from dash import Dash, dcc, html, Input, Output, callback\n",
        "import pandas as pd\n",
        "\n",
        "df = pd.read_csv('gdp_pcap.csv')\n",
        "df_long = df.melt(id_vars=df.columns[0],\n",
        "                  value_vars=df.columns[1:],\n",
        "                  var_name='year',\n",
        "                  value_name='GDP')\n",
        "\n",
        "\n",
        "# initialize app\n",
        "external_stylesheets = ['https://codepen.io/chriddyp/pen/bWLwgP.css']\n",
        "app = Dash(__name__, external_stylesheets=external_stylesheets)\n",
        "\n",
        "# graph\n",
        "df_long['GDP'] = pd.to_numeric(df_long['GDP'], errors='coerce')\n",
        "df_long['year'] = pd.to_numeric(df_long['year'], errors='coerce')\n",
        "df_long = df_long.dropna(subset=['GDP'])\n",
        "df_long_sorted = df_long.sort_values(by='year')\n",
        "\n",
        "# define layout and elements\n",
        "app.layout = html.Div([\n",
        "    # defines title\n",
        "    html.H2(\"GDP per Capita per Country over Years\"),\n",
        "    # defines description\n",
        "    html.P(\"The following data is the GDP per Capita of all the selected countries \\n\"\n",
        "           \"over the course of years 1800-2100. This includes predicted data and past data \"\n",
        "           \"collected by the Gap Minder Foundation. \\n Select the year from the slider and countries from the dropdown menu.\"),\n",
        "\n",
        "    # define drop down with multiple selection and slider\n",
        "    html.Div([\n",
        "        html.Div([\n",
        "            html.Label('Dropdown'),\n",
        "            dcc.Dropdown(\n",
        "                id='country-dropdown',\n",
        "                options=[{'label': country, 'value': country} for country in df['country']],\n",
        "                value=['Grit'],\n",
        "                multi=True\n",
        "            ),\n",
        "        ], style={'width': '48%', 'display': 'inline-block', 'margin-right': '2%'}),\n",
        "\n",
        "        html.Div([\n",
        "            # define range slider with movable marks that range from 1800 to 2100\n",
        "            dcc.RangeSlider(\n",
        "                id='slider-year',\n",
        "                min=int(df.columns[1]),\n",
        "                max=int(df.columns[-1]),\n",
        "                value=[int(df.columns[1]), int(df.columns[-1])],\n",
        "                # this defines the tooltip or 'Mark' for user-friendly labeling that follows the interaction\n",
        "                tooltip={\n",
        "                    \"always_visible\": True,\n",
        "                    \"template\": \"{value}\"\n",
        "                },\n",
        "                marks=None,\n",
        "                step=None\n",
        "            ),\n",
        "        ], style={'width': '48%', 'display': 'inline-block', 'vertical-align': 'middle'})\n",
        "    ], style={'display': 'flex', 'align-items': 'center', 'justify-content': 'space-between', 'margin-top': '50px'}),\n",
        "\n",
        "    dcc.Graph(\n",
        "        id = 'graph'\n",
        "    )\n",
        "])\n",
        "\n",
        "@app.callback(\n",
        "    Output('graph', 'figure'),\n",
        "    [Input('slider-year', 'value'),\n",
        "     Input('country-dropdown', 'value')]\n",
        ")\n",
        "def update_graph(selected_years, selected_countries):\n",
        "    filtered_df = df_long_sorted[(df_long_sorted['year'] >= selected_years[0]) & (df_long_sorted['year'] <= selected_years[1])]\n",
        "    filtered_df = filtered_df[filtered_df['country'].isin(selected_countries)]\n",
        "    fig = px.line(filtered_df, x='year', y='GDP', color='country', title='GDP per Country by Year')\n",
        "    fig.update_xaxes(title_text=\"Year\")\n",
        "    fig.update_yaxes(title_text=\"GDP\")\n",
        "    return fig\n",
        "\n",
        "# run app\n",
        "if __name__ == '__main__':\n",
        "    app.run(jupyter_mode='inline', debug=True)"
      ],
      "metadata": {
        "colab": {
          "base_uri": "https://localhost:8080/",
          "height": 671
        },
        "id": "2mTBkzTO6o5E",
        "outputId": "5c3ae95d-f521-42c4-ff4a-17be965c31a6"
      },
      "execution_count": 2,
      "outputs": [
        {
          "output_type": "display_data",
          "data": {
            "text/plain": [
              "<IPython.core.display.Javascript object>"
            ],
            "application/javascript": [
              "(async (port, path, width, height, cache, element) => {\n",
              "    if (!google.colab.kernel.accessAllowed && !cache) {\n",
              "      return;\n",
              "    }\n",
              "    element.appendChild(document.createTextNode(''));\n",
              "    const url = await google.colab.kernel.proxyPort(port, {cache});\n",
              "    const iframe = document.createElement('iframe');\n",
              "    iframe.src = new URL(path, url).toString();\n",
              "    iframe.height = height;\n",
              "    iframe.width = width;\n",
              "    iframe.style.border = 0;\n",
              "    iframe.allow = [\n",
              "        'accelerometer',\n",
              "        'autoplay',\n",
              "        'camera',\n",
              "        'clipboard-read',\n",
              "        'clipboard-write',\n",
              "        'gyroscope',\n",
              "        'magnetometer',\n",
              "        'microphone',\n",
              "        'serial',\n",
              "        'usb',\n",
              "        'xr-spatial-tracking',\n",
              "    ].join('; ');\n",
              "    element.appendChild(iframe);\n",
              "  })(8050, \"/\", \"100%\", 650, false, window.element)"
            ]
          },
          "metadata": {}
        }
      ]
    }
  ]
}